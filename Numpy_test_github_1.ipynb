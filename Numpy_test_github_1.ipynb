{
  "nbformat": 4,
  "nbformat_minor": 0,
  "metadata": {
    "colab": {
      "provenance": [],
      "authorship_tag": "ABX9TyM8u0PbvAfV+kvQ3pRjpwp/",
      "include_colab_link": true
    },
    "kernelspec": {
      "name": "python3",
      "display_name": "Python 3"
    },
    "language_info": {
      "name": "python"
    }
  },
  "cells": [
    {
      "cell_type": "markdown",
      "metadata": {
        "id": "view-in-github",
        "colab_type": "text"
      },
      "source": [
        "<a href=\"https://colab.research.google.com/github/anumit-web/Numpy-tutorial-1-Colab/blob/main/Numpy_test_github_1.ipynb\" target=\"_parent\"><img src=\"https://colab.research.google.com/assets/colab-badge.svg\" alt=\"Open In Colab\"/></a>"
      ]
    },
    {
      "cell_type": "markdown",
      "source": [],
      "metadata": {
        "id": "g7uPsGfxkd5n"
      }
    },
    {
      "cell_type": "markdown",
      "source": [
        "### Lists\n",
        "\n",
        "A list is the Python equivalent of an array, but is resizeable and can contain elements of different types:"
      ],
      "metadata": {
        "id": "shksmx5lgaLx"
      }
    },
    {
      "cell_type": "code",
      "source": [],
      "metadata": {
        "id": "gpcuC1NglAAh"
      },
      "execution_count": null,
      "outputs": []
    },
    {
      "cell_type": "code",
      "source": [
        "xs = [3, 1, 2]    # Create a list\n",
        "print(xs)  # Prints \"[3, 1, 2] 2\"\n",
        "print( xs[2])"
      ],
      "metadata": {
        "id": "BZxwwn_ilAaW",
        "outputId": "c6562f72-bae8-4905-8c97-0cd49ddeb429",
        "colab": {
          "base_uri": "https://localhost:8080/"
        }
      },
      "execution_count": 1,
      "outputs": [
        {
          "output_type": "stream",
          "name": "stdout",
          "text": [
            "[3, 1, 2]\n",
            "2\n"
          ]
        }
      ]
    },
    {
      "cell_type": "code",
      "source": [
        "d = {'cat': 'cute', 'dog': 'furry'}  # Create a new dictionary with some data\n",
        "print(d['cat'])       # Get an entry from a dictionary; prints \"cute\"\n",
        "print(d)     # Check if a dictionary has a given key; prints \"True\""
      ],
      "metadata": {
        "id": "mlrF-ak-lg7e",
        "outputId": "edb15813-020d-4b3d-cfa5-8482e0489d8b",
        "colab": {
          "base_uri": "https://localhost:8080/"
        }
      },
      "execution_count": 2,
      "outputs": [
        {
          "output_type": "stream",
          "name": "stdout",
          "text": [
            "cute\n",
            "{'cat': 'cute', 'dog': 'furry'}\n"
          ]
        }
      ]
    }
  ]
}