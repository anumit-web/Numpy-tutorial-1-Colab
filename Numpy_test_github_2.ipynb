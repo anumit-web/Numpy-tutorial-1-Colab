{
  "nbformat": 4,
  "nbformat_minor": 0,
  "metadata": {
    "colab": {
      "provenance": []
    },
    "kernelspec": {
      "name": "python3",
      "display_name": "Python 3"
    },
    "language_info": {
      "name": "python"
    }
  },
  "cells": [
    {
      "cell_type": "markdown",
      "source": [
        "### Containers\n",
        "\n",
        "Python includes several built-in container types: lists, dictionaries, sets, and tuples."
      ],
      "metadata": {
        "id": "Oddud14LnY0w"
      }
    },
    {
      "cell_type": "markdown",
      "source": [
        "### Lists\n",
        "\n",
        "A list is the Python equivalent of an array, but is resizeable and can contain elements of different types:\n",
        "\n",
        "Lists are created using square brackets:"
      ],
      "metadata": {
        "id": "shksmx5lgaLx"
      }
    },
    {
      "cell_type": "code",
      "source": [
        "xs = [3, 1, 2]    # Create a list\n",
        "print(xs)  # Prints \"[3, 1, 2] 2\"\n",
        "print( xs[2])"
      ],
      "metadata": {
        "colab": {
          "base_uri": "https://localhost:8080/"
        },
        "id": "BZxwwn_ilAaW",
        "outputId": "d5fc02e1-1941-4b53-b3ad-19480d73d8cc"
      },
      "execution_count": 13,
      "outputs": [
        {
          "output_type": "stream",
          "name": "stdout",
          "text": [
            "[3, 1, 2]\n",
            "2\n"
          ]
        }
      ]
    },
    {
      "cell_type": "markdown",
      "source": [
        "### Dictionaries\n",
        "\n",
        "A dictionary stores (key, value) pairs, similar to a Map in Java or an object in Javascript. You can use it like this:"
      ],
      "metadata": {
        "id": "WiLlZYefm6DI"
      }
    },
    {
      "cell_type": "code",
      "source": [
        "d = {'cat': 'cute', 'dog': 'furry'}  # Create a new dictionary with some data\n",
        "print(d['cat'])       # Get an entry from a dictionary; prints \"cute\"\n",
        "print(d)     # Check if a dictionary has a given key; prints \"True\""
      ],
      "metadata": {
        "colab": {
          "base_uri": "https://localhost:8080/"
        },
        "id": "mlrF-ak-lg7e",
        "outputId": "3c649197-98f7-4b10-d308-cbd872ffb932"
      },
      "execution_count": 14,
      "outputs": [
        {
          "output_type": "stream",
          "name": "stdout",
          "text": [
            "cute\n",
            "{'cat': 'cute', 'dog': 'furry'}\n"
          ]
        }
      ]
    },
    {
      "cell_type": "markdown",
      "source": [
        "### Sets\n",
        "\n",
        "A set is an unordered collection of distinct elements. As a simple example, consider the following"
      ],
      "metadata": {
        "id": "jrlwGo7fmiit"
      }
    },
    {
      "cell_type": "code",
      "source": [
        "animals = {'cat', 'dog'}\n",
        "print(animals)   # Check if an element is in a set; prints \"True\"\n",
        "animals.add('fish')       # Add an element to a set\n",
        "print(animals)"
      ],
      "metadata": {
        "colab": {
          "base_uri": "https://localhost:8080/"
        },
        "id": "uJyjAIphmMTH",
        "outputId": "ca344dfd-31e0-442d-e40d-3944c8c02f01"
      },
      "execution_count": 15,
      "outputs": [
        {
          "output_type": "stream",
          "name": "stdout",
          "text": [
            "{'cat', 'dog'}\n",
            "{'cat', 'dog', 'fish'}\n"
          ]
        }
      ]
    },
    {
      "cell_type": "markdown",
      "source": [
        "### Tuples\n",
        "\n",
        "A tuple is a collection which is ordered and unchangeable\n",
        "\n",
        "Tuples are written with round brackets.\n",
        "\n",
        "Tuples allow duplicate values:\n",
        "\n",
        "A tuple is an (immutable) ordered list of values. A tuple is in many ways similar to a list; one of the most important differences is that tuples can be used as keys in dictionaries and as elements of sets, while lists cannot. Here is a trivial example:"
      ],
      "metadata": {
        "id": "XWzV0fQIn3P4"
      }
    },
    {
      "cell_type": "code",
      "source": [
        "mytuple = (\"apple\", \"banana\", \"cherry\")\n",
        "print(mytuple)"
      ],
      "metadata": {
        "colab": {
          "base_uri": "https://localhost:8080/"
        },
        "id": "3aE2Oy8XoOHm",
        "outputId": "869aec8a-e5e4-4a50-fffe-0211cbc0306b"
      },
      "execution_count": 16,
      "outputs": [
        {
          "output_type": "stream",
          "name": "stdout",
          "text": [
            "('apple', 'banana', 'cherry')\n"
          ]
        }
      ]
    }
  ]
}