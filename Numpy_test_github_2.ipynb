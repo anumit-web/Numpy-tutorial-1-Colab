{
  "nbformat": 4,
  "nbformat_minor": 0,
  "metadata": {
    "colab": {
      "provenance": []
    },
    "kernelspec": {
      "name": "python3",
      "display_name": "Python 3"
    },
    "language_info": {
      "name": "python"
    }
  },
  "cells": [
    {
      "cell_type": "markdown",
      "source": [
        "# Numpy\n",
        "\n",
        "  "
      ],
      "metadata": {
        "id": "Oddud14LnY0w"
      }
    },
    {
      "cell_type": "markdown",
      "source": [
        "NumPy is a Python library.\n",
        "\n",
        "NumPy is used for working with arrays.\n",
        "\n",
        "NumPy is short for \"Numerical Python\"."
      ],
      "metadata": {
        "id": "BwFsu2L3wLIB"
      }
    },
    {
      "cell_type": "markdown",
      "source": [
        "## 1 dimensional array"
      ],
      "metadata": {
        "id": "oWXkPsX-xCZI"
      }
    },
    {
      "cell_type": "code",
      "source": [
        "import numpy as np\n",
        "\n",
        "a = np.array([1, 2, 3])   # Create a rank 1 array\n",
        "print(a)\n",
        "print(type(a))            # Prints \"<class 'numpy.ndarray'>\"\n",
        "print(a.shape)            # Prints \"(3,)\"\n",
        "print(a[0], a[1], a[2])   # Prints \"1 2 3\"\n",
        "a[0] = 5                  # Change an element of the array\n",
        "print(a)                  # Prints \"[5, 2, 3]\""
      ],
      "metadata": {
        "id": "Iz8N2qa6wdO-",
        "outputId": "c4533f7d-8258-4619-f4c5-9dfc4ff567e1",
        "colab": {
          "base_uri": "https://localhost:8080/"
        }
      },
      "execution_count": 2,
      "outputs": [
        {
          "output_type": "stream",
          "name": "stdout",
          "text": [
            "[1 2 3]\n",
            "<class 'numpy.ndarray'>\n",
            "(3,)\n",
            "1 2 3\n",
            "[5 2 3]\n"
          ]
        }
      ]
    }
  ]
}